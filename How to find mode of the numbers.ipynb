{
 "cells": [
  {
   "cell_type": "code",
   "execution_count": 6,
   "id": "a2a9fe39",
   "metadata": {
    "ExecuteTime": {
     "end_time": "2022-08-21T22:17:18.907957Z",
     "start_time": "2022-08-21T22:17:09.167456Z"
    }
   },
   "outputs": [
    {
     "name": "stdout",
     "output_type": "stream",
     "text": [
      "Please enter the numbers for which you want to find the mode: 1,2,2,2,2,3,5,6,6,6,6\n",
      "-------------------------------\n",
      "The numbers enterd by you are as below:\n",
      "1\n",
      "2\n",
      "2\n",
      "2\n",
      "2\n",
      "3\n",
      "5\n",
      "6\n",
      "6\n",
      "6\n",
      "6\n",
      "--------------------------------\n",
      "The mode of the numbers provided by you is 2\n"
     ]
    }
   ],
   "source": [
    "import statistics as st\n",
    "Num = input('Please enter the numbers for which you want to find the mode: ')\n",
    "list_Num = list(map(int, Num.split(sep = ',')))\n",
    "print('-------------------------------')\n",
    "print(f'The numbers enterd by you are as below:')\n",
    "for i in range(len(list_Num)):\n",
    "    print(list_Num[i])\n",
    "print('--------------------------------')\n",
    "print(f'The mode of the numbers provided by you is {st.mode(list_Num)}')"
   ]
  },
  {
   "cell_type": "code",
   "execution_count": 8,
   "id": "bbecefde",
   "metadata": {
    "ExecuteTime": {
     "end_time": "2022-08-21T22:32:19.029103Z",
     "start_time": "2022-08-21T22:32:18.988097Z"
    }
   },
   "outputs": [
    {
     "name": "stdout",
     "output_type": "stream",
     "text": [
      "    x1 x2 group\n",
      "0    5  y     A\n",
      "1    2  x     C\n",
      "2    7  x     B\n",
      "3    3  z     B\n",
      "4    4  x     A\n",
      "5    4  y     C\n",
      "6    2  y     A\n",
      "7    3  x     A\n",
      "8    2  z     C\n",
      "9    1  x     B\n",
      "10   2  z     B\n",
      "11   5  x     A\n",
      "--------------------------\n",
      "the mode of the column x1 is 0    2\n",
      "dtype: int64\n",
      "--------------------------\n",
      "the mode of the column x1 is 0    x\n",
      "dtype: object\n",
      "--------------------------\n",
      "the mode of the column x1 is 0    A\n",
      "dtype: object\n",
      "--------------------------\n",
      "the mode of all the columns are as below:\n",
      "   x1 x2 group\n",
      "0   2  x     A\n"
     ]
    }
   ],
   "source": [
    "import pandas as pd\n",
    "data = pd.DataFrame({'x1':[5, 2, 7, 3, 4, 4, 2, 3, 2, 1, 2, 5],\n",
    "                     'x2':['y', 'x', 'x', 'z', 'x', 'y', 'y', 'x', 'z', 'x', 'z', 'x'],\n",
    "                     'group':['A', 'C', 'B', 'B', 'A', 'C', 'A', 'A', 'C', 'B', 'B', 'A']\n",
    "                    })\n",
    "print(data)\n",
    "print('--------------------------')\n",
    "mod_x_1 = data['x1'].mode()\n",
    "print(f'the mode of the column x1 is {mod_x_1}')\n",
    "print('--------------------------')\n",
    "mod_x_2 = data['x2'].mode()\n",
    "print(f'the mode of the column x1 is {mod_x_2}')\n",
    "print('--------------------------')\n",
    "mod_group = data['group'].mode()\n",
    "print(f'the mode of the column x1 is {mod_group}')\n",
    "print('--------------------------')\n",
    "mod_x_1_x_2_G = data.mode()\n",
    "print(f'the mode of all the columns are as below:')\n",
    "print(mod_x_1_x_2_G)"
   ]
  },
  {
   "cell_type": "code",
   "execution_count": null,
   "id": "81f8527d",
   "metadata": {},
   "outputs": [],
   "source": []
  }
 ],
 "metadata": {
  "kernelspec": {
   "display_name": "Python 3 (ipykernel)",
   "language": "python",
   "name": "python3"
  },
  "language_info": {
   "codemirror_mode": {
    "name": "ipython",
    "version": 3
   },
   "file_extension": ".py",
   "mimetype": "text/x-python",
   "name": "python",
   "nbconvert_exporter": "python",
   "pygments_lexer": "ipython3",
   "version": "3.9.7"
  },
  "toc": {
   "base_numbering": 1,
   "nav_menu": {},
   "number_sections": true,
   "sideBar": true,
   "skip_h1_title": false,
   "title_cell": "Table of Contents",
   "title_sidebar": "Contents",
   "toc_cell": false,
   "toc_position": {},
   "toc_section_display": true,
   "toc_window_display": false
  }
 },
 "nbformat": 4,
 "nbformat_minor": 5
}
