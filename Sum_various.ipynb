{
 "cells": [
  {
   "cell_type": "markdown",
   "id": "4bd1e08d",
   "metadata": {},
   "source": [
    "## SUM, + operator and mis conception about math library"
   ]
  },
  {
   "cell_type": "code",
   "execution_count": 1,
   "id": "e5bc3fdf",
   "metadata": {
    "ExecuteTime": {
     "end_time": "2022-12-16T05:27:39.555590Z",
     "start_time": "2022-12-16T05:27:39.528584Z"
    }
   },
   "outputs": [
    {
     "name": "stdout",
     "output_type": "stream",
     "text": [
      "894\n"
     ]
    }
   ],
   "source": [
    "# adding two integral numbers without importing any libraries i.e. using built-in methods\n",
    "a = 108\n",
    "b = 786\n",
    "c = a + b\n",
    "print(c)"
   ]
  },
  {
   "cell_type": "code",
   "execution_count": 2,
   "id": "40e798ac",
   "metadata": {
    "ExecuteTime": {
     "end_time": "2022-12-16T05:27:39.588584Z",
     "start_time": "2022-12-16T05:27:39.566583Z"
    }
   },
   "outputs": [
    {
     "name": "stdout",
     "output_type": "stream",
     "text": [
      "894\n"
     ]
    }
   ],
   "source": [
    "# adding two integral numbers by using built-in method called sum which requires the two integers to be slotted \n",
    "# inside a tuple or list\n",
    "d = sum((a, b), 0)\n",
    "print(d)"
   ]
  },
  {
   "cell_type": "code",
   "execution_count": 3,
   "id": "9c8e5cea",
   "metadata": {
    "ExecuteTime": {
     "end_time": "2022-12-16T05:27:39.635583Z",
     "start_time": "2022-12-16T05:27:39.593589Z"
    }
   },
   "outputs": [
    {
     "data": {
      "text/plain": [
       "[1, 2, 3, 4]"
      ]
     },
     "execution_count": 3,
     "metadata": {},
     "output_type": "execute_result"
    }
   ],
   "source": [
    "# A different variation in the sum function which act as an append function in this case by adding the two list and\n",
    "# producing a new list with all the elements of the previous two lists\n",
    "sum([[1,2],[3,4]], [])"
   ]
  },
  {
   "cell_type": "code",
   "execution_count": 4,
   "id": "ee8e359b",
   "metadata": {
    "ExecuteTime": {
     "end_time": "2022-12-16T05:27:39.650586Z",
     "start_time": "2022-12-16T05:27:39.640584Z"
    }
   },
   "outputs": [
    {
     "name": "stdout",
     "output_type": "stream",
     "text": [
      "10\n"
     ]
    }
   ],
   "source": [
    "# summing of of four integral numbers by using arithmetic + operator directly\n",
    "d = 1+2+3+4\n",
    "print(d)"
   ]
  },
  {
   "cell_type": "code",
   "execution_count": 5,
   "id": "21a06c05",
   "metadata": {
    "ExecuteTime": {
     "end_time": "2022-12-16T05:27:39.665584Z",
     "start_time": "2022-12-16T05:27:39.654585Z"
    }
   },
   "outputs": [
    {
     "name": "stdout",
     "output_type": "stream",
     "text": [
      "10\n"
     ]
    }
   ],
   "source": [
    "# using the sum built in function to get the addition of four integral numbers\n",
    "d = sum([1,2,3,4],0)\n",
    "print(d)"
   ]
  },
  {
   "cell_type": "code",
   "execution_count": 6,
   "id": "8a0c4cf7",
   "metadata": {
    "ExecuteTime": {
     "end_time": "2022-12-16T05:27:39.680582Z",
     "start_time": "2022-12-16T05:27:39.669586Z"
    }
   },
   "outputs": [
    {
     "data": {
      "text/plain": [
       "6"
      ]
     },
     "execution_count": 6,
     "metadata": {},
     "output_type": "execute_result"
    }
   ],
   "source": [
    "# more than two arguments in the list\n",
    "e = 1\n",
    "f = 2\n",
    "g = 3\n",
    "sum([e,f,g],0)"
   ]
  },
  {
   "cell_type": "code",
   "execution_count": 7,
   "id": "35b2e6b4",
   "metadata": {
    "ExecuteTime": {
     "end_time": "2022-12-16T05:27:39.696585Z",
     "start_time": "2022-12-16T05:27:39.685585Z"
    }
   },
   "outputs": [
    {
     "data": {
      "text/plain": [
       "6"
      ]
     },
     "execution_count": 7,
     "metadata": {},
     "output_type": "execute_result"
    }
   ],
   "source": [
    "# reordeing the order of the variables\n",
    "sum([g,f,e],0)"
   ]
  },
  {
   "cell_type": "code",
   "execution_count": 8,
   "id": "a2670e29",
   "metadata": {
    "ExecuteTime": {
     "end_time": "2022-12-16T05:27:39.712584Z",
     "start_time": "2022-12-16T05:27:39.702583Z"
    }
   },
   "outputs": [
    {
     "data": {
      "text/plain": [
       "1.0"
      ]
     },
     "execution_count": 8,
     "metadata": {},
     "output_type": "execute_result"
    }
   ],
   "source": [
    "# using floating point values assigned to the variables along with float start value\n",
    "r = 0.9\n",
    "s = 0.1\n",
    "sum([r,s],0.0)"
   ]
  },
  {
   "cell_type": "code",
   "execution_count": 9,
   "id": "63350b7d",
   "metadata": {
    "ExecuteTime": {
     "end_time": "2022-12-16T05:27:39.728587Z",
     "start_time": "2022-12-16T05:27:39.717588Z"
    }
   },
   "outputs": [
    {
     "data": {
      "text/plain": [
       "1.0"
      ]
     },
     "execution_count": 9,
     "metadata": {},
     "output_type": "execute_result"
    }
   ],
   "source": [
    "# using floating point values assigned to the variables along with integral start value\n",
    "r_1 = 0.9\n",
    "s_1 = 0.1\n",
    "sum([r_1,s_1],0)"
   ]
  },
  {
   "cell_type": "code",
   "execution_count": 10,
   "id": "57ad2b4f",
   "metadata": {
    "ExecuteTime": {
     "end_time": "2022-12-16T05:27:39.744584Z",
     "start_time": "2022-12-16T05:27:39.732586Z"
    }
   },
   "outputs": [
    {
     "data": {
      "text/plain": [
       "1.9"
      ]
     },
     "execution_count": 10,
     "metadata": {},
     "output_type": "execute_result"
    }
   ],
   "source": [
    "# using floating point values assigned to the variables along with integral start value\n",
    "r_2 = 0.9\n",
    "s_2 = 1\n",
    "sum([r_2,s_2],0)"
   ]
  },
  {
   "cell_type": "code",
   "execution_count": 11,
   "id": "39028dce",
   "metadata": {
    "ExecuteTime": {
     "end_time": "2022-12-16T05:27:39.760580Z",
     "start_time": "2022-12-16T05:27:39.749587Z"
    }
   },
   "outputs": [
    {
     "data": {
      "text/plain": [
       "1.9"
      ]
     },
     "execution_count": 11,
     "metadata": {},
     "output_type": "execute_result"
    }
   ],
   "source": [
    "# using floating point values assigned to the variables along with float start value\n",
    "r_3 = 0.9\n",
    "s_3 = 1\n",
    "sum([r_3,s_3],0.0)"
   ]
  },
  {
   "cell_type": "code",
   "execution_count": 12,
   "id": "8aee2200",
   "metadata": {
    "ExecuteTime": {
     "end_time": "2022-12-16T05:27:39.775584Z",
     "start_time": "2022-12-16T05:27:39.765619Z"
    }
   },
   "outputs": [
    {
     "data": {
      "text/plain": [
       "10.0"
      ]
     },
     "execution_count": 12,
     "metadata": {},
     "output_type": "execute_result"
    }
   ],
   "source": [
    "# using intergral values assigned to the variables along with float start value\n",
    "r_3 = 9\n",
    "s_3 = 1\n",
    "sum([r_3,s_3],0.0)"
   ]
  },
  {
   "cell_type": "code",
   "execution_count": 13,
   "id": "df9fb7e8",
   "metadata": {
    "ExecuteTime": {
     "end_time": "2022-12-16T05:27:40.250584Z",
     "start_time": "2022-12-16T05:27:39.781588Z"
    }
   },
   "outputs": [
    {
     "ename": "NameError",
     "evalue": "name 'add' is not defined",
     "output_type": "error",
     "traceback": [
      "\u001b[1;31m---------------------------------------------------------------------------\u001b[0m",
      "\u001b[1;31mNameError\u001b[0m                                 Traceback (most recent call last)",
      "\u001b[1;32m~\\AppData\\Local\\Temp/ipykernel_12808/706507608.py\u001b[0m in \u001b[0;36m<module>\u001b[1;34m\u001b[0m\n\u001b[0;32m      2\u001b[0m \u001b[1;31m# which is more noticeable fact and can be misconception\u001b[0m\u001b[1;33m\u001b[0m\u001b[1;33m\u001b[0m\u001b[0m\n\u001b[0;32m      3\u001b[0m \u001b[1;32mimport\u001b[0m \u001b[0mmath\u001b[0m\u001b[1;33m\u001b[0m\u001b[1;33m\u001b[0m\u001b[0m\n\u001b[1;32m----> 4\u001b[1;33m \u001b[0madd\u001b[0m\u001b[1;33m(\u001b[0m\u001b[1;36m5\u001b[0m\u001b[1;33m,\u001b[0m\u001b[1;36m4\u001b[0m\u001b[1;33m)\u001b[0m\u001b[1;33m\u001b[0m\u001b[1;33m\u001b[0m\u001b[0m\n\u001b[0m",
      "\u001b[1;31mNameError\u001b[0m: name 'add' is not defined"
     ]
    }
   ],
   "source": [
    "# addition using add function is not possible as there is not sum or add function in math library \n",
    "# which is more noticeable fact and can be misconception\n",
    "import math\n",
    "add(5,4)"
   ]
  },
  {
   "cell_type": "code",
   "execution_count": null,
   "id": "b67bf921",
   "metadata": {},
   "outputs": [],
   "source": []
  }
 ],
 "metadata": {
  "kernelspec": {
   "display_name": "Python 3 (ipykernel)",
   "language": "python",
   "name": "python3"
  },
  "language_info": {
   "codemirror_mode": {
    "name": "ipython",
    "version": 3
   },
   "file_extension": ".py",
   "mimetype": "text/x-python",
   "name": "python",
   "nbconvert_exporter": "python",
   "pygments_lexer": "ipython3",
   "version": "3.9.7"
  },
  "toc": {
   "base_numbering": 1,
   "nav_menu": {},
   "number_sections": true,
   "sideBar": true,
   "skip_h1_title": false,
   "title_cell": "Table of Contents",
   "title_sidebar": "Contents",
   "toc_cell": false,
   "toc_position": {},
   "toc_section_display": true,
   "toc_window_display": false
  }
 },
 "nbformat": 4,
 "nbformat_minor": 5
}
