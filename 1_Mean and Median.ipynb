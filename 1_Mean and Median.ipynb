{
 "cells": [
  {
   "cell_type": "code",
   "execution_count": 3,
   "id": "c25e0036",
   "metadata": {
    "ExecuteTime": {
     "end_time": "2022-08-21T21:52:52.875310Z",
     "start_time": "2022-08-21T21:52:43.566852Z"
    }
   },
   "outputs": [
    {
     "name": "stdout",
     "output_type": "stream",
     "text": [
      "Please enter the numbers seperated by comma:\n",
      "1,9,19,200,150,4\n",
      "-------------------------\n",
      "The numbers entered by you are:\n",
      "1\n",
      "9\n",
      "19\n",
      "200\n",
      "150\n",
      "4\n",
      "-------------------------\n",
      "The average of the numbers you have entered is 63.833333333333336\n",
      "The median of the numbers you have entered is 14.0\n"
     ]
    }
   ],
   "source": [
    "Num = input('Please enter the numbers seperated by comma:\\n')\n",
    "list_Num = list(map(int, Num.split(sep = ',')))\n",
    "count_Num = len(list_Num)\n",
    "sum_num = 0\n",
    "for i in range(count_Num):\n",
    "    sum_num += list_Num[i]\n",
    "print('-------------------------')\n",
    "print('The numbers entered by you are:')\n",
    "for i in range(count_Num):\n",
    "    print(f'{list_Num[i]}')\n",
    "print('-------------------------')\n",
    "print(f'The average of the numbers you have entered is {sum_num/count_Num}')\n",
    "list_Num.sort()\n",
    "if (count_Num % 2) != 0:\n",
    "    print(f'The median of the numbers you have entered is {int(list_Num[int((count_Num - 1)/2)])}')\n",
    "else:\n",
    "    print(f'The median of the numbers you have entered is {(list_Num[int(count_Num/2)] + list_Num[int(count_Num/2) - 1])/2}')"
   ]
  }
 ],
 "metadata": {
  "kernelspec": {
   "display_name": "Python 3 (ipykernel)",
   "language": "python",
   "name": "python3"
  },
  "language_info": {
   "codemirror_mode": {
    "name": "ipython",
    "version": 3
   },
   "file_extension": ".py",
   "mimetype": "text/x-python",
   "name": "python",
   "nbconvert_exporter": "python",
   "pygments_lexer": "ipython3",
   "version": "3.9.7"
  },
  "toc": {
   "base_numbering": 1,
   "nav_menu": {},
   "number_sections": true,
   "sideBar": true,
   "skip_h1_title": false,
   "title_cell": "Table of Contents",
   "title_sidebar": "Contents",
   "toc_cell": false,
   "toc_position": {},
   "toc_section_display": true,
   "toc_window_display": false
  }
 },
 "nbformat": 4,
 "nbformat_minor": 5
}
